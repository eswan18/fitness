{
 "cells": [
  {
   "cell_type": "code",
   "execution_count": 3,
   "id": "acb5ab80-abde-4281-b62a-a3fe90fefc09",
   "metadata": {},
   "outputs": [],
   "source": [
    "import pandas as pd"
   ]
  },
  {
   "cell_type": "code",
   "execution_count": 4,
   "id": "698e0430-82f7-4f4c-b5ba-8580871e9f00",
   "metadata": {},
   "outputs": [
    {
     "data": {
      "text/html": [
       "<div>\n",
       "<style scoped>\n",
       "    .dataframe tbody tr th:only-of-type {\n",
       "        vertical-align: middle;\n",
       "    }\n",
       "\n",
       "    .dataframe tbody tr th {\n",
       "        vertical-align: top;\n",
       "    }\n",
       "\n",
       "    .dataframe thead th {\n",
       "        text-align: right;\n",
       "    }\n",
       "</style>\n",
       "<table border=\"1\" class=\"dataframe\">\n",
       "  <thead>\n",
       "    <tr style=\"text-align: right;\">\n",
       "      <th></th>\n",
       "      <th>Date Submitted</th>\n",
       "      <th>Workout Date</th>\n",
       "      <th>Activity Type</th>\n",
       "      <th>Calories Burned (kCal)</th>\n",
       "      <th>Distance (mi)</th>\n",
       "      <th>Workout Time (seconds)</th>\n",
       "      <th>Avg Pace (min/mi)</th>\n",
       "      <th>Max Pace (min/mi)</th>\n",
       "      <th>Avg Speed (mi/h)</th>\n",
       "      <th>Max Speed (mi/h)</th>\n",
       "      <th>Avg Heart Rate</th>\n",
       "      <th>Steps</th>\n",
       "      <th>Notes</th>\n",
       "      <th>Source</th>\n",
       "      <th>Link</th>\n",
       "    </tr>\n",
       "  </thead>\n",
       "  <tbody>\n",
       "    <tr>\n",
       "      <th>0</th>\n",
       "      <td>March 26, 2023</td>\n",
       "      <td>March 26, 2023</td>\n",
       "      <td>Run</td>\n",
       "      <td>715</td>\n",
       "      <td>5.36776</td>\n",
       "      <td>2275</td>\n",
       "      <td>7.05833</td>\n",
       "      <td>1.081000</td>\n",
       "      <td>8.50059</td>\n",
       "      <td>55.5044</td>\n",
       "      <td>166.0</td>\n",
       "      <td>6221.0</td>\n",
       "      <td>b'Shoes: Karhu Fusion 2021  2\\n\\nThis was the ...</td>\n",
       "      <td>Map My Fitness MapMyRun iPhone</td>\n",
       "      <td>http://www.mapmyfitness.com/workout/7175814409</td>\n",
       "    </tr>\n",
       "    <tr>\n",
       "      <th>1</th>\n",
       "      <td>March 19, 2023</td>\n",
       "      <td>March 19, 2023</td>\n",
       "      <td>Run</td>\n",
       "      <td>886</td>\n",
       "      <td>6.23790</td>\n",
       "      <td>3329</td>\n",
       "      <td>8.89212</td>\n",
       "      <td>0.438779</td>\n",
       "      <td>6.74755</td>\n",
       "      <td>136.7430</td>\n",
       "      <td>149.0</td>\n",
       "      <td>8647.0</td>\n",
       "      <td>b'Shoes: Karhu Fusion 2021'</td>\n",
       "      <td>Map My Fitness MapMyRun iPhone</td>\n",
       "      <td>http://www.mapmyfitness.com/workout/7164286915</td>\n",
       "    </tr>\n",
       "    <tr>\n",
       "      <th>2</th>\n",
       "      <td>March 16, 2023</td>\n",
       "      <td>March 16, 2023</td>\n",
       "      <td>Run</td>\n",
       "      <td>849</td>\n",
       "      <td>5.94303</td>\n",
       "      <td>3046</td>\n",
       "      <td>8.53909</td>\n",
       "      <td>0.362757</td>\n",
       "      <td>7.02651</td>\n",
       "      <td>165.4000</td>\n",
       "      <td>158.0</td>\n",
       "      <td>8184.0</td>\n",
       "      <td>b'Shoes: New Balance M1080K10\\n\\nLight rain, b...</td>\n",
       "      <td>Map My Fitness MapMyRun iPhone</td>\n",
       "      <td>http://www.mapmyfitness.com/workout/7158791356</td>\n",
       "    </tr>\n",
       "    <tr>\n",
       "      <th>3</th>\n",
       "      <td>March 5, 2023</td>\n",
       "      <td>March 5, 2023</td>\n",
       "      <td>Run</td>\n",
       "      <td>892</td>\n",
       "      <td>6.00173</td>\n",
       "      <td>3245</td>\n",
       "      <td>9.00933</td>\n",
       "      <td>0.951973</td>\n",
       "      <td>6.65976</td>\n",
       "      <td>63.0270</td>\n",
       "      <td>155.0</td>\n",
       "      <td>8714.0</td>\n",
       "      <td>b'Shoes: Karhu Fusion 2021  2\\n\\nHot and humid'</td>\n",
       "      <td>Map My Fitness MapMyRun iPhone</td>\n",
       "      <td>http://www.mapmyfitness.com/workout/7140104104</td>\n",
       "    </tr>\n",
       "    <tr>\n",
       "      <th>4</th>\n",
       "      <td>March 1, 2023</td>\n",
       "      <td>March 1, 2023</td>\n",
       "      <td>Run</td>\n",
       "      <td>720</td>\n",
       "      <td>4.93614</td>\n",
       "      <td>2451</td>\n",
       "      <td>8.27323</td>\n",
       "      <td>0.837613</td>\n",
       "      <td>7.25231</td>\n",
       "      <td>71.6321</td>\n",
       "      <td>154.0</td>\n",
       "      <td>6494.0</td>\n",
       "      <td>b'Shoes: Karhu Fusion 2021'</td>\n",
       "      <td>Map My Fitness MapMyRun iPhone</td>\n",
       "      <td>http://www.mapmyfitness.com/workout/7132914841</td>\n",
       "    </tr>\n",
       "  </tbody>\n",
       "</table>\n",
       "</div>"
      ],
      "text/plain": [
       "   Date Submitted    Workout Date Activity Type  Calories Burned (kCal)  \\\n",
       "0  March 26, 2023  March 26, 2023           Run                     715   \n",
       "1  March 19, 2023  March 19, 2023           Run                     886   \n",
       "2  March 16, 2023  March 16, 2023           Run                     849   \n",
       "3   March 5, 2023   March 5, 2023           Run                     892   \n",
       "4   March 1, 2023   March 1, 2023           Run                     720   \n",
       "\n",
       "   Distance (mi)  Workout Time (seconds)  Avg Pace (min/mi)  \\\n",
       "0        5.36776                    2275            7.05833   \n",
       "1        6.23790                    3329            8.89212   \n",
       "2        5.94303                    3046            8.53909   \n",
       "3        6.00173                    3245            9.00933   \n",
       "4        4.93614                    2451            8.27323   \n",
       "\n",
       "   Max Pace (min/mi)  Avg Speed (mi/h)  Max Speed (mi/h)  Avg Heart Rate  \\\n",
       "0           1.081000           8.50059           55.5044           166.0   \n",
       "1           0.438779           6.74755          136.7430           149.0   \n",
       "2           0.362757           7.02651          165.4000           158.0   \n",
       "3           0.951973           6.65976           63.0270           155.0   \n",
       "4           0.837613           7.25231           71.6321           154.0   \n",
       "\n",
       "    Steps                                              Notes  \\\n",
       "0  6221.0  b'Shoes: Karhu Fusion 2021  2\\n\\nThis was the ...   \n",
       "1  8647.0                        b'Shoes: Karhu Fusion 2021'   \n",
       "2  8184.0  b'Shoes: New Balance M1080K10\\n\\nLight rain, b...   \n",
       "3  8714.0    b'Shoes: Karhu Fusion 2021  2\\n\\nHot and humid'   \n",
       "4  6494.0                        b'Shoes: Karhu Fusion 2021'   \n",
       "\n",
       "                           Source  \\\n",
       "0  Map My Fitness MapMyRun iPhone   \n",
       "1  Map My Fitness MapMyRun iPhone   \n",
       "2  Map My Fitness MapMyRun iPhone   \n",
       "3  Map My Fitness MapMyRun iPhone   \n",
       "4  Map My Fitness MapMyRun iPhone   \n",
       "\n",
       "                                             Link  \n",
       "0  http://www.mapmyfitness.com/workout/7175814409  \n",
       "1  http://www.mapmyfitness.com/workout/7164286915  \n",
       "2  http://www.mapmyfitness.com/workout/7158791356  \n",
       "3  http://www.mapmyfitness.com/workout/7140104104  \n",
       "4  http://www.mapmyfitness.com/workout/7132914841  "
      ]
     },
     "execution_count": 4,
     "metadata": {},
     "output_type": "execute_result"
    }
   ],
   "source": [
    "workouts = pd.read_csv('data/user82388963_workout_history.csv')\n",
    "workouts.head()"
   ]
  },
  {
   "cell_type": "markdown",
   "id": "722a6c3c-0709-4ec1-a1a9-5d622ff277d2",
   "metadata": {},
   "source": [
    "This contains a few non-runs; limit to only indoor and outdoor runs."
   ]
  },
  {
   "cell_type": "code",
   "execution_count": 5,
   "id": "6c64cf54-abdf-42d9-b1ec-414bdcfa6a87",
   "metadata": {},
   "outputs": [
    {
     "data": {
      "text/html": [
       "<div>\n",
       "<style scoped>\n",
       "    .dataframe tbody tr th:only-of-type {\n",
       "        vertical-align: middle;\n",
       "    }\n",
       "\n",
       "    .dataframe tbody tr th {\n",
       "        vertical-align: top;\n",
       "    }\n",
       "\n",
       "    .dataframe thead th {\n",
       "        text-align: right;\n",
       "    }\n",
       "</style>\n",
       "<table border=\"1\" class=\"dataframe\">\n",
       "  <thead>\n",
       "    <tr style=\"text-align: right;\">\n",
       "      <th></th>\n",
       "      <th>Date Submitted</th>\n",
       "      <th>Workout Date</th>\n",
       "      <th>Activity Type</th>\n",
       "      <th>Calories Burned (kCal)</th>\n",
       "      <th>Distance (mi)</th>\n",
       "      <th>Workout Time (seconds)</th>\n",
       "      <th>Avg Pace (min/mi)</th>\n",
       "      <th>Max Pace (min/mi)</th>\n",
       "      <th>Avg Speed (mi/h)</th>\n",
       "      <th>Max Speed (mi/h)</th>\n",
       "      <th>Avg Heart Rate</th>\n",
       "      <th>Steps</th>\n",
       "      <th>Notes</th>\n",
       "      <th>Source</th>\n",
       "      <th>Link</th>\n",
       "    </tr>\n",
       "  </thead>\n",
       "  <tbody>\n",
       "    <tr>\n",
       "      <th>0</th>\n",
       "      <td>March 26, 2023</td>\n",
       "      <td>March 26, 2023</td>\n",
       "      <td>Run</td>\n",
       "      <td>715</td>\n",
       "      <td>5.36776</td>\n",
       "      <td>2275</td>\n",
       "      <td>7.05833</td>\n",
       "      <td>1.081000</td>\n",
       "      <td>8.50059</td>\n",
       "      <td>55.5044</td>\n",
       "      <td>166.0</td>\n",
       "      <td>6221.0</td>\n",
       "      <td>b'Shoes: Karhu Fusion 2021  2\\n\\nThis was the ...</td>\n",
       "      <td>Map My Fitness MapMyRun iPhone</td>\n",
       "      <td>http://www.mapmyfitness.com/workout/7175814409</td>\n",
       "    </tr>\n",
       "    <tr>\n",
       "      <th>1</th>\n",
       "      <td>March 19, 2023</td>\n",
       "      <td>March 19, 2023</td>\n",
       "      <td>Run</td>\n",
       "      <td>886</td>\n",
       "      <td>6.23790</td>\n",
       "      <td>3329</td>\n",
       "      <td>8.89212</td>\n",
       "      <td>0.438779</td>\n",
       "      <td>6.74755</td>\n",
       "      <td>136.7430</td>\n",
       "      <td>149.0</td>\n",
       "      <td>8647.0</td>\n",
       "      <td>b'Shoes: Karhu Fusion 2021'</td>\n",
       "      <td>Map My Fitness MapMyRun iPhone</td>\n",
       "      <td>http://www.mapmyfitness.com/workout/7164286915</td>\n",
       "    </tr>\n",
       "    <tr>\n",
       "      <th>2</th>\n",
       "      <td>March 16, 2023</td>\n",
       "      <td>March 16, 2023</td>\n",
       "      <td>Run</td>\n",
       "      <td>849</td>\n",
       "      <td>5.94303</td>\n",
       "      <td>3046</td>\n",
       "      <td>8.53909</td>\n",
       "      <td>0.362757</td>\n",
       "      <td>7.02651</td>\n",
       "      <td>165.4000</td>\n",
       "      <td>158.0</td>\n",
       "      <td>8184.0</td>\n",
       "      <td>b'Shoes: New Balance M1080K10\\n\\nLight rain, b...</td>\n",
       "      <td>Map My Fitness MapMyRun iPhone</td>\n",
       "      <td>http://www.mapmyfitness.com/workout/7158791356</td>\n",
       "    </tr>\n",
       "    <tr>\n",
       "      <th>3</th>\n",
       "      <td>March 5, 2023</td>\n",
       "      <td>March 5, 2023</td>\n",
       "      <td>Run</td>\n",
       "      <td>892</td>\n",
       "      <td>6.00173</td>\n",
       "      <td>3245</td>\n",
       "      <td>9.00933</td>\n",
       "      <td>0.951973</td>\n",
       "      <td>6.65976</td>\n",
       "      <td>63.0270</td>\n",
       "      <td>155.0</td>\n",
       "      <td>8714.0</td>\n",
       "      <td>b'Shoes: Karhu Fusion 2021  2\\n\\nHot and humid'</td>\n",
       "      <td>Map My Fitness MapMyRun iPhone</td>\n",
       "      <td>http://www.mapmyfitness.com/workout/7140104104</td>\n",
       "    </tr>\n",
       "    <tr>\n",
       "      <th>4</th>\n",
       "      <td>March 1, 2023</td>\n",
       "      <td>March 1, 2023</td>\n",
       "      <td>Run</td>\n",
       "      <td>720</td>\n",
       "      <td>4.93614</td>\n",
       "      <td>2451</td>\n",
       "      <td>8.27323</td>\n",
       "      <td>0.837613</td>\n",
       "      <td>7.25231</td>\n",
       "      <td>71.6321</td>\n",
       "      <td>154.0</td>\n",
       "      <td>6494.0</td>\n",
       "      <td>b'Shoes: Karhu Fusion 2021'</td>\n",
       "      <td>Map My Fitness MapMyRun iPhone</td>\n",
       "      <td>http://www.mapmyfitness.com/workout/7132914841</td>\n",
       "    </tr>\n",
       "  </tbody>\n",
       "</table>\n",
       "</div>"
      ],
      "text/plain": [
       "   Date Submitted    Workout Date Activity Type  Calories Burned (kCal)  \\\n",
       "0  March 26, 2023  March 26, 2023           Run                     715   \n",
       "1  March 19, 2023  March 19, 2023           Run                     886   \n",
       "2  March 16, 2023  March 16, 2023           Run                     849   \n",
       "3   March 5, 2023   March 5, 2023           Run                     892   \n",
       "4   March 1, 2023   March 1, 2023           Run                     720   \n",
       "\n",
       "   Distance (mi)  Workout Time (seconds)  Avg Pace (min/mi)  \\\n",
       "0        5.36776                    2275            7.05833   \n",
       "1        6.23790                    3329            8.89212   \n",
       "2        5.94303                    3046            8.53909   \n",
       "3        6.00173                    3245            9.00933   \n",
       "4        4.93614                    2451            8.27323   \n",
       "\n",
       "   Max Pace (min/mi)  Avg Speed (mi/h)  Max Speed (mi/h)  Avg Heart Rate  \\\n",
       "0           1.081000           8.50059           55.5044           166.0   \n",
       "1           0.438779           6.74755          136.7430           149.0   \n",
       "2           0.362757           7.02651          165.4000           158.0   \n",
       "3           0.951973           6.65976           63.0270           155.0   \n",
       "4           0.837613           7.25231           71.6321           154.0   \n",
       "\n",
       "    Steps                                              Notes  \\\n",
       "0  6221.0  b'Shoes: Karhu Fusion 2021  2\\n\\nThis was the ...   \n",
       "1  8647.0                        b'Shoes: Karhu Fusion 2021'   \n",
       "2  8184.0  b'Shoes: New Balance M1080K10\\n\\nLight rain, b...   \n",
       "3  8714.0    b'Shoes: Karhu Fusion 2021  2\\n\\nHot and humid'   \n",
       "4  6494.0                        b'Shoes: Karhu Fusion 2021'   \n",
       "\n",
       "                           Source  \\\n",
       "0  Map My Fitness MapMyRun iPhone   \n",
       "1  Map My Fitness MapMyRun iPhone   \n",
       "2  Map My Fitness MapMyRun iPhone   \n",
       "3  Map My Fitness MapMyRun iPhone   \n",
       "4  Map My Fitness MapMyRun iPhone   \n",
       "\n",
       "                                             Link  \n",
       "0  http://www.mapmyfitness.com/workout/7175814409  \n",
       "1  http://www.mapmyfitness.com/workout/7164286915  \n",
       "2  http://www.mapmyfitness.com/workout/7158791356  \n",
       "3  http://www.mapmyfitness.com/workout/7140104104  \n",
       "4  http://www.mapmyfitness.com/workout/7132914841  "
      ]
     },
     "execution_count": 5,
     "metadata": {},
     "output_type": "execute_result"
    }
   ],
   "source": [
    "runs = workouts[workouts['Activity Type'].str.contains('Run')].copy()\n",
    "runs.head()"
   ]
  },
  {
   "cell_type": "markdown",
   "id": "aa3edc9a-e0d3-40c8-b27f-6d116986489d",
   "metadata": {},
   "source": [
    "How many rows now?"
   ]
  },
  {
   "cell_type": "code",
   "execution_count": 6,
   "id": "e5df0d33-8df5-4702-9d60-69dc9f47e74d",
   "metadata": {},
   "outputs": [
    {
     "data": {
      "text/plain": [
       "607"
      ]
     },
     "execution_count": 6,
     "metadata": {},
     "output_type": "execute_result"
    }
   ],
   "source": [
    "len(runs)"
   ]
  },
  {
   "cell_type": "markdown",
   "id": "ab3676fa-1650-4a9b-a7fc-cd32e802047f",
   "metadata": {},
   "source": [
    "## Clean up Shoe Labels"
   ]
  },
  {
   "cell_type": "markdown",
   "id": "c692ef1a-1c4f-4a91-9d25-eafcd3ba1b46",
   "metadata": {},
   "source": [
    "Extract all patterns in the notes column that look like `\"Shoes: ...\"`"
   ]
  },
  {
   "cell_type": "code",
   "execution_count": 7,
   "id": "8a560ddd-8668-42b7-816b-a0cf2888c6bd",
   "metadata": {},
   "outputs": [
    {
     "data": {
      "text/plain": [
       "Saucony Versafoam Inferno    94\n",
       "New Balance M1080K10         81\n",
       "Karhu Fusion 2021            50\n",
       "Saucony Kinvara 10           15\n",
       "Karhu Fusion 2021  2         14\n",
       "New Balance M1080R10          6\n",
       "M1080K10                      4\n",
       "Brooks Ghost 10               4\n",
       "M1080R10                      2\n",
       "Brooks Ghost 11               2\n",
       "New Balance 1080K10           1\n",
       "Saucony                       1\n",
       "Name: Notes, dtype: int64"
      ]
     },
     "execution_count": 7,
     "metadata": {},
     "output_type": "execute_result"
    }
   ],
   "source": [
    "shoes = runs['Notes'].str.extract(r\"b'.*Shoes: ([^\\\\]*).*'\", expand=False).str.strip()\n",
    "shoes.value_counts()"
   ]
  },
  {
   "cell_type": "markdown",
   "id": "329d4945-d6d9-4fd3-ab7f-388010fe3d1b",
   "metadata": {},
   "source": [
    "How many are null?"
   ]
  },
  {
   "cell_type": "code",
   "execution_count": 8,
   "id": "8e4b99ff-d23e-4a92-8b4b-655ebb65eae0",
   "metadata": {},
   "outputs": [
    {
     "data": {
      "text/plain": [
       "'333 nulls out of 607 rows'"
      ]
     },
     "execution_count": 8,
     "metadata": {},
     "output_type": "execute_result"
    }
   ],
   "source": [
    "null_count = shoes.isna().sum()\n",
    "total_count = shoes.shape[0]\n",
    "f'{null_count} nulls out of {total_count} rows'"
   ]
  },
  {
   "cell_type": "markdown",
   "id": "f34d3afe-ba12-48ae-a6fb-c58b205712be",
   "metadata": {},
   "source": [
    "Seems kind of high... let's verify that the Notes on the remaining ones are indeed blank (or nonsense)."
   ]
  },
  {
   "cell_type": "code",
   "execution_count": 9,
   "id": "cec9d140-7711-4ce8-b88c-aa3e11979ff7",
   "metadata": {
    "tags": []
   },
   "outputs": [
    {
     "data": {
      "text/plain": [
       "array([\"b''\", \"b'Nike Metcon Repper DSX'\",\n",
       "       \"b'New Balance M1080K10\\\\n\\\\nFelt good. Pushed hard to break 27:00. '\",\n",
       "       \"b'Still recovering from the 10k, may have pushed too hard. \\\\nSaucony '\",\n",
       "       \"b'Cincinnati Cyclones Frozen 10k\\\\nGhost 10 shoes'\",\n",
       "       \"b'Felt great! First run in what seems like a long time.'\",\n",
       "       \"b'Did this after spinning lightly and rowing 3km. Also didnt sleep very well the night before. Had to push pretty hard just to break 14:00.'\",\n",
       "       \"b'Felt good for the first time since my 8-miler.  Good run.'\",\n",
       "       \"b'Had some foot pain (top outer of left foot) and stopped much earlier than expected; Ive taken most of the week off due to aches and pains and didnt want to aggravate things. Felt pretty good in terms of cardio, though.'\",\n",
       "       \"b'Did this after spinner for 300 calories. My legs were still painful from Saturdays long run so I tried to take it easy. This run wasnt too painful.'\",\n",
       "       \"b'Didnt feel great, but it was my longest run of the year by far and at a decent speed. Some knee and calf pain afterward, will need to go low impact for a few days.'\",\n",
       "       \"b'Felt pretty good, though I had to push to get to this time. Did this a bit after biking 20 minutes and having lifted legs in the morning.'\",\n",
       "       \"b'Felt fantastic. Some foot soreness from orange Aasics but otherwise great. Intentionally didnt push until the very end.'\",\n",
       "       \"b'Did this after a 5-minute break after the last run'\",\n",
       "       \"b'Did this after relaxed biking and erging. Felt pretty good.'\",\n",
       "       \"b'Some foot soreness (orange Asics) but overall good. Intentionally slow.'\",\n",
       "       \"b'Kinda hot and humid. I went intentionally slow but I dont know how much faster I could have gone.'\",\n",
       "       \"b'Had to push super hard. Heart racing'\",\n",
       "       \"b'So much foot soreness. Had originally planned to do 3 miles but wanted to end early from just foot soreness.'\",\n",
       "       \"b'Trying to get back in shape. Some chest tightness and breathing felt a little inhibited'\",\n",
       "       \"b'Slow. Felt cardiovascular fitness was holding me back. Ran around Hyde Park and did lots of hills.'\",\n",
       "       \"b'Second one of the day'\",\n",
       "       \"b'Mile for speed, first time in a while. Didnt push too hard.'\",\n",
       "       \"b'First in a long time  Im substantially heavier and felt like I was dragging  '\",\n",
       "       \"b'Felt good. Had already run a mile. lifted lightly. and done abs. '\",\n",
       "       \"b'First fast run in a while. Felt good. '\",\n",
       "       \"b'Im so slow. Didnt push that hard. '\",\n",
       "       \"b'Rough. Vastly exceeded expectations though.'\",\n",
       "       \"b'Just a warm up for tomorrows half. '\",\n",
       "       \"b'Very slow but overall encouraging. Feeling optimistic that I can do the half next week at an 8 minute pace.'\",\n",
       "       \"b'Not good. Felt incredibly out of shape. '\",\n",
       "       \"b'Treadmill stopped after 30 minutes so I had to do this workout in 2 splits. In total. farthest Ive run since last years half. Felt decent but ran out of energy at the end. '\",\n",
       "       \"b'Felt pretty good'\",\n",
       "       \"b'Felt good. A little left ankle pain. Didnt push very hard. '\",\n",
       "       \"b'Longest run in a very long time. Didnt feel very tired except at the very end (as I sped up). Lots of foot soreness (not sharp pain) during mile 2. Overall big success. very pleased. Pace will Come with time. '\",\n",
       "       \"b'First run in some time. Did a little bit of abs right beforehand and that may have contributed to the difficulty. Not happy with time but its understandable. '\",\n",
       "       \"b'Did cardio X in the morning so this was supplemental. Felt good. some left calf pain. '\",\n",
       "       \"b'Ran after playing 2 hours of basketball. Felt quite good. considering. '\",\n",
       "       \"b'Felt great. '\",\n",
       "       \"b'Quite a bit of stomach discomfort throughout. I was much more hydrated than usual but maybe I had too much water right before running. '\",\n",
       "       \"b'Longest  distance in quite some time. Felt pretty good. '\",\n",
       "       \"b'Second run today. still felt great. Could have pushed harder. '\",\n",
       "       \"b'Felt great. Didnt have to push very hard. Aerobic fitness is coming back. '\",\n",
       "       \"b'Surprising amount of cramping. Had to push pretty hard for not a great time. '\",\n",
       "       \"b'Very slow. Wind slowed me down and I stopped to chat with someone for 1-2 minutes. Still, feeling out of shape.'\",\n",
       "       \"b'Felt slow. Weather was perfect but I wore long sleeves and overheated a little.'\",\n",
       "       \"b'30 degrees, I felt bad - possibly because I was running on gravel.'\",\n",
       "       \"b'About 30 degrees out. Cardio felt good, had some minor foot soreness.'\",\n",
       "       \"b'Used new Brooks Ghost shoes for the first time. Underfoot muscle soreness, primarily right foot. Left inner calf pain reared up a few times. Overall felt good, though, and was satisfied with my time.\\\\n\\\\nI think the shoes will help a lot once my feet get stronger - possibly theyre weak from the old shoes.'\",\n",
       "       \"b'Felt out of shape, hills took it out of me.'\",\n",
       "       \"b'Xavier loop starting at my apartment would be about 5 miles if direct.'\",\n",
       "       \"b'#dreamfearlessly'\"], dtype=object)"
      ]
     },
     "execution_count": 9,
     "metadata": {},
     "output_type": "execute_result"
    }
   ],
   "source": [
    "runs[shoes.isna()]['Notes'].unique()"
   ]
  },
  {
   "cell_type": "markdown",
   "id": "0aa8782b-4f94-4641-9b9b-abfba1f5d265",
   "metadata": {},
   "source": [
    "Okay so one or two have shoes in them, but very few."
   ]
  },
  {
   "cell_type": "markdown",
   "id": "84657b69-76f9-4e87-a6aa-1172f37d2970",
   "metadata": {},
   "source": [
    "Write some patterns to fix typos and alternate spellings."
   ]
  },
  {
   "cell_type": "code",
   "execution_count": 10,
   "id": "789fc19b-86f0-41d3-9088-ebaf45eab51a",
   "metadata": {},
   "outputs": [],
   "source": [
    "transforms = {\n",
    "    'M1080K10': 'New Balance M1080K10',\n",
    "    'New Balance 1080K10': 'New Balance M1080K10',\n",
    "    'M1080R10': 'New Balance M1080R10',\n",
    "}"
   ]
  },
  {
   "cell_type": "markdown",
   "id": "36634d22-488e-49bc-b056-8f90d3623ff1",
   "metadata": {},
   "source": [
    "Recompute the counts."
   ]
  },
  {
   "cell_type": "code",
   "execution_count": 11,
   "id": "1f4e0da3-5a01-4dae-86f0-185404eaf9c2",
   "metadata": {},
   "outputs": [
    {
     "data": {
      "text/plain": [
       "Saucony Versafoam Inferno    94\n",
       "New Balance M1080K10         86\n",
       "Karhu Fusion 2021            50\n",
       "Saucony Kinvara 10           15\n",
       "Karhu Fusion 2021  2         14\n",
       "New Balance M1080R10          8\n",
       "Brooks Ghost 10               4\n",
       "Brooks Ghost 11               2\n",
       "Saucony                       1\n",
       "Name: Notes, dtype: int64"
      ]
     },
     "execution_count": 11,
     "metadata": {},
     "output_type": "execute_result"
    }
   ],
   "source": [
    "shoes.replace(transforms).value_counts()"
   ]
  },
  {
   "cell_type": "markdown",
   "id": "13a76423-9bb4-402f-b3a4-5bb8e6485105",
   "metadata": {},
   "source": [
    "## Look at Metrics by Shoe"
   ]
  },
  {
   "cell_type": "markdown",
   "id": "ed8135f7-cac5-4331-93c4-f1461e2c4938",
   "metadata": {},
   "source": [
    "Create a new column for the shoe type."
   ]
  },
  {
   "cell_type": "code",
   "execution_count": 12,
   "id": "a1a8a71f-1b0c-41d9-bceb-0997a6a1ef22",
   "metadata": {},
   "outputs": [
    {
     "data": {
      "text/plain": [
       "0    Karhu Fusion 2021  2\n",
       "1       Karhu Fusion 2021\n",
       "2    New Balance M1080K10\n",
       "3    Karhu Fusion 2021  2\n",
       "4       Karhu Fusion 2021\n",
       "Name: Shoes, dtype: object"
      ]
     },
     "execution_count": 12,
     "metadata": {},
     "output_type": "execute_result"
    }
   ],
   "source": [
    "runs['Shoes'] = shoes.replace(transforms)\n",
    "runs['Shoes'].head()"
   ]
  },
  {
   "cell_type": "code",
   "execution_count": 13,
   "id": "393b6fe8-240e-4fd1-8808-741dbdd55079",
   "metadata": {},
   "outputs": [],
   "source": [
    "import altair as alt"
   ]
  },
  {
   "cell_type": "code",
   "execution_count": 14,
   "id": "caa9d333-78c3-4b6a-8e79-3b99a087ba76",
   "metadata": {},
   "outputs": [
    {
     "data": {
      "text/html": [
       "\n",
       "<div id=\"altair-viz-ef0e2c4b53344401acba4812f0612f4e\"></div>\n",
       "<script type=\"text/javascript\">\n",
       "  var VEGA_DEBUG = (typeof VEGA_DEBUG == \"undefined\") ? {} : VEGA_DEBUG;\n",
       "  (function(spec, embedOpt){\n",
       "    let outputDiv = document.currentScript.previousElementSibling;\n",
       "    if (outputDiv.id !== \"altair-viz-ef0e2c4b53344401acba4812f0612f4e\") {\n",
       "      outputDiv = document.getElementById(\"altair-viz-ef0e2c4b53344401acba4812f0612f4e\");\n",
       "    }\n",
       "    const paths = {\n",
       "      \"vega\": \"https://cdn.jsdelivr.net/npm//vega@5?noext\",\n",
       "      \"vega-lib\": \"https://cdn.jsdelivr.net/npm//vega-lib?noext\",\n",
       "      \"vega-lite\": \"https://cdn.jsdelivr.net/npm//vega-lite@4.17.0?noext\",\n",
       "      \"vega-embed\": \"https://cdn.jsdelivr.net/npm//vega-embed@6?noext\",\n",
       "    };\n",
       "\n",
       "    function maybeLoadScript(lib, version) {\n",
       "      var key = `${lib.replace(\"-\", \"\")}_version`;\n",
       "      return (VEGA_DEBUG[key] == version) ?\n",
       "        Promise.resolve(paths[lib]) :\n",
       "        new Promise(function(resolve, reject) {\n",
       "          var s = document.createElement('script');\n",
       "          document.getElementsByTagName(\"head\")[0].appendChild(s);\n",
       "          s.async = true;\n",
       "          s.onload = () => {\n",
       "            VEGA_DEBUG[key] = version;\n",
       "            return resolve(paths[lib]);\n",
       "          };\n",
       "          s.onerror = () => reject(`Error loading script: ${paths[lib]}`);\n",
       "          s.src = paths[lib];\n",
       "        });\n",
       "    }\n",
       "\n",
       "    function showError(err) {\n",
       "      outputDiv.innerHTML = `<div class=\"error\" style=\"color:red;\">${err}</div>`;\n",
       "      throw err;\n",
       "    }\n",
       "\n",
       "    function displayChart(vegaEmbed) {\n",
       "      vegaEmbed(outputDiv, spec, embedOpt)\n",
       "        .catch(err => showError(`Javascript Error: ${err.message}<br>This usually means there's a typo in your chart specification. See the javascript console for the full traceback.`));\n",
       "    }\n",
       "\n",
       "    if(typeof define === \"function\" && define.amd) {\n",
       "      requirejs.config({paths});\n",
       "      require([\"vega-embed\"], displayChart, err => showError(`Error loading script: ${err.message}`));\n",
       "    } else {\n",
       "      maybeLoadScript(\"vega\", \"5\")\n",
       "        .then(() => maybeLoadScript(\"vega-lite\", \"4.17.0\"))\n",
       "        .then(() => maybeLoadScript(\"vega-embed\", \"6\"))\n",
       "        .catch(showError)\n",
       "        .then(() => displayChart(vegaEmbed));\n",
       "    }\n",
       "  })({\"config\": {\"view\": {\"continuousWidth\": 400, \"continuousHeight\": 300}}, \"data\": {\"name\": \"data-0b485cb9e3a08c118c0e65d3619382df\"}, \"mark\": \"bar\", \"encoding\": {\"x\": {\"field\": \"Shoes\", \"type\": \"nominal\"}, \"y\": {\"field\": \"Workout Date\", \"type\": \"quantitative\"}}, \"$schema\": \"https://vega.github.io/schema/vega-lite/v4.17.0.json\", \"datasets\": {\"data-0b485cb9e3a08c118c0e65d3619382df\": [{\"Shoes\": \"Brooks Ghost 10\", \"Workout Date\": 4}, {\"Shoes\": \"Brooks Ghost 11\", \"Workout Date\": 2}, {\"Shoes\": \"Karhu Fusion 2021\", \"Workout Date\": 50}, {\"Shoes\": \"Karhu Fusion 2021  2\", \"Workout Date\": 14}, {\"Shoes\": \"New Balance M1080K10\", \"Workout Date\": 86}, {\"Shoes\": \"New Balance M1080R10\", \"Workout Date\": 8}, {\"Shoes\": \"Saucony\", \"Workout Date\": 1}, {\"Shoes\": \"Saucony Kinvara 10\", \"Workout Date\": 15}, {\"Shoes\": \"Saucony Versafoam Inferno\", \"Workout Date\": 94}]}}, {\"mode\": \"vega-lite\"});\n",
       "</script>"
      ],
      "text/plain": [
       "alt.Chart(...)"
      ]
     },
     "execution_count": 14,
     "metadata": {},
     "output_type": "execute_result"
    }
   ],
   "source": [
    "count_shoes = runs.groupby('Shoes', as_index=False)['Workout Date'].count()\n",
    "\n",
    "alt.Chart(count_shoes).mark_bar().encode(\n",
    "    x='Shoes',\n",
    "    y='Workout Date',\n",
    ")"
   ]
  },
  {
   "cell_type": "code",
   "execution_count": 15,
   "id": "277e1c11-6ccb-4b54-859c-de3a680ebd16",
   "metadata": {},
   "outputs": [
    {
     "data": {
      "text/html": [
       "\n",
       "<div id=\"altair-viz-bb22ecebd2bf4c4e8c94da1648411ff1\"></div>\n",
       "<script type=\"text/javascript\">\n",
       "  var VEGA_DEBUG = (typeof VEGA_DEBUG == \"undefined\") ? {} : VEGA_DEBUG;\n",
       "  (function(spec, embedOpt){\n",
       "    let outputDiv = document.currentScript.previousElementSibling;\n",
       "    if (outputDiv.id !== \"altair-viz-bb22ecebd2bf4c4e8c94da1648411ff1\") {\n",
       "      outputDiv = document.getElementById(\"altair-viz-bb22ecebd2bf4c4e8c94da1648411ff1\");\n",
       "    }\n",
       "    const paths = {\n",
       "      \"vega\": \"https://cdn.jsdelivr.net/npm//vega@5?noext\",\n",
       "      \"vega-lib\": \"https://cdn.jsdelivr.net/npm//vega-lib?noext\",\n",
       "      \"vega-lite\": \"https://cdn.jsdelivr.net/npm//vega-lite@4.17.0?noext\",\n",
       "      \"vega-embed\": \"https://cdn.jsdelivr.net/npm//vega-embed@6?noext\",\n",
       "    };\n",
       "\n",
       "    function maybeLoadScript(lib, version) {\n",
       "      var key = `${lib.replace(\"-\", \"\")}_version`;\n",
       "      return (VEGA_DEBUG[key] == version) ?\n",
       "        Promise.resolve(paths[lib]) :\n",
       "        new Promise(function(resolve, reject) {\n",
       "          var s = document.createElement('script');\n",
       "          document.getElementsByTagName(\"head\")[0].appendChild(s);\n",
       "          s.async = true;\n",
       "          s.onload = () => {\n",
       "            VEGA_DEBUG[key] = version;\n",
       "            return resolve(paths[lib]);\n",
       "          };\n",
       "          s.onerror = () => reject(`Error loading script: ${paths[lib]}`);\n",
       "          s.src = paths[lib];\n",
       "        });\n",
       "    }\n",
       "\n",
       "    function showError(err) {\n",
       "      outputDiv.innerHTML = `<div class=\"error\" style=\"color:red;\">${err}</div>`;\n",
       "      throw err;\n",
       "    }\n",
       "\n",
       "    function displayChart(vegaEmbed) {\n",
       "      vegaEmbed(outputDiv, spec, embedOpt)\n",
       "        .catch(err => showError(`Javascript Error: ${err.message}<br>This usually means there's a typo in your chart specification. See the javascript console for the full traceback.`));\n",
       "    }\n",
       "\n",
       "    if(typeof define === \"function\" && define.amd) {\n",
       "      requirejs.config({paths});\n",
       "      require([\"vega-embed\"], displayChart, err => showError(`Error loading script: ${err.message}`));\n",
       "    } else {\n",
       "      maybeLoadScript(\"vega\", \"5\")\n",
       "        .then(() => maybeLoadScript(\"vega-lite\", \"4.17.0\"))\n",
       "        .then(() => maybeLoadScript(\"vega-embed\", \"6\"))\n",
       "        .catch(showError)\n",
       "        .then(() => displayChart(vegaEmbed));\n",
       "    }\n",
       "  })({\"config\": {\"view\": {\"continuousWidth\": 400, \"continuousHeight\": 300}}, \"data\": {\"name\": \"data-ec75e693b207a2e862c46863f1bc3fe0\"}, \"mark\": \"bar\", \"encoding\": {\"x\": {\"field\": \"Shoes\", \"type\": \"nominal\"}, \"y\": {\"field\": \"Distance (mi)\", \"type\": \"quantitative\"}}, \"$schema\": \"https://vega.github.io/schema/vega-lite/v4.17.0.json\", \"datasets\": {\"data-ec75e693b207a2e862c46863f1bc3fe0\": [{\"Shoes\": \"Brooks Ghost 10\", \"Distance (mi)\": 14.90454}, {\"Shoes\": \"Brooks Ghost 11\", \"Distance (mi)\": 10.2836}, {\"Shoes\": \"Karhu Fusion 2021\", \"Distance (mi)\": 243.40118999999999}, {\"Shoes\": \"Karhu Fusion 2021  2\", \"Distance (mi)\": 40.791512}, {\"Shoes\": \"New Balance M1080K10\", \"Distance (mi)\": 337.51064}, {\"Shoes\": \"New Balance M1080R10\", \"Distance (mi)\": 34.787189999999995}, {\"Shoes\": \"Saucony\", \"Distance (mi)\": 2.0}, {\"Shoes\": \"Saucony Kinvara 10\", \"Distance (mi)\": 45.958510000000004}, {\"Shoes\": \"Saucony Versafoam Inferno\", \"Distance (mi)\": 360.18913}]}}, {\"mode\": \"vega-lite\"});\n",
       "</script>"
      ],
      "text/plain": [
       "alt.Chart(...)"
      ]
     },
     "execution_count": 15,
     "metadata": {},
     "output_type": "execute_result"
    }
   ],
   "source": [
    "distance_shoes = runs.groupby('Shoes', as_index=False)['Distance (mi)'].sum()\n",
    "alt.Chart(distance_shoes).mark_bar().encode(\n",
    "    x='Shoes',\n",
    "    y='Distance (mi)',\n",
    ")"
   ]
  },
  {
   "cell_type": "code",
   "execution_count": 16,
   "id": "fb046e59-634e-4e0a-9ba9-33de66d7f62d",
   "metadata": {},
   "outputs": [
    {
     "data": {
      "text/html": [
       "\n",
       "<div id=\"altair-viz-dab395d3185d487dbb76d5a3fb5bcce3\"></div>\n",
       "<script type=\"text/javascript\">\n",
       "  var VEGA_DEBUG = (typeof VEGA_DEBUG == \"undefined\") ? {} : VEGA_DEBUG;\n",
       "  (function(spec, embedOpt){\n",
       "    let outputDiv = document.currentScript.previousElementSibling;\n",
       "    if (outputDiv.id !== \"altair-viz-dab395d3185d487dbb76d5a3fb5bcce3\") {\n",
       "      outputDiv = document.getElementById(\"altair-viz-dab395d3185d487dbb76d5a3fb5bcce3\");\n",
       "    }\n",
       "    const paths = {\n",
       "      \"vega\": \"https://cdn.jsdelivr.net/npm//vega@5?noext\",\n",
       "      \"vega-lib\": \"https://cdn.jsdelivr.net/npm//vega-lib?noext\",\n",
       "      \"vega-lite\": \"https://cdn.jsdelivr.net/npm//vega-lite@4.17.0?noext\",\n",
       "      \"vega-embed\": \"https://cdn.jsdelivr.net/npm//vega-embed@6?noext\",\n",
       "    };\n",
       "\n",
       "    function maybeLoadScript(lib, version) {\n",
       "      var key = `${lib.replace(\"-\", \"\")}_version`;\n",
       "      return (VEGA_DEBUG[key] == version) ?\n",
       "        Promise.resolve(paths[lib]) :\n",
       "        new Promise(function(resolve, reject) {\n",
       "          var s = document.createElement('script');\n",
       "          document.getElementsByTagName(\"head\")[0].appendChild(s);\n",
       "          s.async = true;\n",
       "          s.onload = () => {\n",
       "            VEGA_DEBUG[key] = version;\n",
       "            return resolve(paths[lib]);\n",
       "          };\n",
       "          s.onerror = () => reject(`Error loading script: ${paths[lib]}`);\n",
       "          s.src = paths[lib];\n",
       "        });\n",
       "    }\n",
       "\n",
       "    function showError(err) {\n",
       "      outputDiv.innerHTML = `<div class=\"error\" style=\"color:red;\">${err}</div>`;\n",
       "      throw err;\n",
       "    }\n",
       "\n",
       "    function displayChart(vegaEmbed) {\n",
       "      vegaEmbed(outputDiv, spec, embedOpt)\n",
       "        .catch(err => showError(`Javascript Error: ${err.message}<br>This usually means there's a typo in your chart specification. See the javascript console for the full traceback.`));\n",
       "    }\n",
       "\n",
       "    if(typeof define === \"function\" && define.amd) {\n",
       "      requirejs.config({paths});\n",
       "      require([\"vega-embed\"], displayChart, err => showError(`Error loading script: ${err.message}`));\n",
       "    } else {\n",
       "      maybeLoadScript(\"vega\", \"5\")\n",
       "        .then(() => maybeLoadScript(\"vega-lite\", \"4.17.0\"))\n",
       "        .then(() => maybeLoadScript(\"vega-embed\", \"6\"))\n",
       "        .catch(showError)\n",
       "        .then(() => displayChart(vegaEmbed));\n",
       "    }\n",
       "  })({\"config\": {\"view\": {\"continuousWidth\": 400, \"continuousHeight\": 300}}, \"data\": {\"name\": \"data-a53a0e9d71dc764815a5559eeca77f30\"}, \"mark\": \"bar\", \"encoding\": {\"x\": {\"field\": \"Shoes\", \"type\": \"nominal\"}, \"y\": {\"field\": \"Avg Distance\", \"type\": \"quantitative\"}}, \"$schema\": \"https://vega.github.io/schema/vega-lite/v4.17.0.json\", \"datasets\": {\"data-a53a0e9d71dc764815a5559eeca77f30\": [{\"Shoes\": \"Brooks Ghost 10\", \"Distance (mi)\": 14.90454, \"Workout Date\": 4, \"Avg Distance\": 3.726135}, {\"Shoes\": \"Brooks Ghost 11\", \"Distance (mi)\": 10.2836, \"Workout Date\": 2, \"Avg Distance\": 5.1418}, {\"Shoes\": \"Karhu Fusion 2021\", \"Distance (mi)\": 243.40118999999999, \"Workout Date\": 50, \"Avg Distance\": 4.8680238}, {\"Shoes\": \"Karhu Fusion 2021  2\", \"Distance (mi)\": 40.791512, \"Workout Date\": 14, \"Avg Distance\": 2.9136794285714283}, {\"Shoes\": \"New Balance M1080K10\", \"Distance (mi)\": 337.51064, \"Workout Date\": 86, \"Avg Distance\": 3.924542325581396}, {\"Shoes\": \"New Balance M1080R10\", \"Distance (mi)\": 34.787189999999995, \"Workout Date\": 8, \"Avg Distance\": 4.348398749999999}, {\"Shoes\": \"Saucony\", \"Distance (mi)\": 2.0, \"Workout Date\": 1, \"Avg Distance\": 2.0}, {\"Shoes\": \"Saucony Kinvara 10\", \"Distance (mi)\": 45.958510000000004, \"Workout Date\": 15, \"Avg Distance\": 3.063900666666667}, {\"Shoes\": \"Saucony Versafoam Inferno\", \"Distance (mi)\": 360.18913, \"Workout Date\": 94, \"Avg Distance\": 3.8317992553191487}]}}, {\"mode\": \"vega-lite\"});\n",
       "</script>"
      ],
      "text/plain": [
       "alt.Chart(...)"
      ]
     },
     "execution_count": 16,
     "metadata": {},
     "output_type": "execute_result"
    }
   ],
   "source": [
    "miles_per_run = pd.merge(distance_shoes, count_shoes, on='Shoes')\n",
    "miles_per_run['Avg Distance'] = miles_per_run['Distance (mi)'] / miles_per_run['Workout Date']\n",
    "alt.Chart(miles_per_run).mark_bar().encode(\n",
    "    x='Shoes',\n",
    "    y='Avg Distance',\n",
    ")"
   ]
  }
 ],
 "metadata": {
  "kernelspec": {
   "display_name": "Python 3 (ipykernel)",
   "language": "python",
   "name": "python3"
  },
  "language_info": {
   "codemirror_mode": {
    "name": "ipython",
    "version": 3
   },
   "file_extension": ".py",
   "mimetype": "text/x-python",
   "name": "python",
   "nbconvert_exporter": "python",
   "pygments_lexer": "ipython3",
   "version": "3.11.0"
  }
 },
 "nbformat": 4,
 "nbformat_minor": 5
}
