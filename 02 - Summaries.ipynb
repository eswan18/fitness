{
 "cells": [
  {
   "cell_type": "markdown",
   "metadata": {},
   "source": [
    "# 02 – Summaries"
   ]
  },
  {
   "cell_type": "code",
   "execution_count": 1,
   "metadata": {},
   "outputs": [],
   "source": [
    "import pandas as pd\n",
    "data = pd.read_csv('data/runs.csv')"
   ]
  },
  {
   "cell_type": "code",
   "execution_count": 2,
   "metadata": {},
   "outputs": [
    {
     "data": {
      "text/html": [
       "<div>\n",
       "<style scoped>\n",
       "    .dataframe tbody tr th:only-of-type {\n",
       "        vertical-align: middle;\n",
       "    }\n",
       "\n",
       "    .dataframe tbody tr th {\n",
       "        vertical-align: top;\n",
       "    }\n",
       "\n",
       "    .dataframe thead th {\n",
       "        text-align: right;\n",
       "    }\n",
       "</style>\n",
       "<table border=\"1\" class=\"dataframe\">\n",
       "  <thead>\n",
       "    <tr style=\"text-align: right;\">\n",
       "      <th></th>\n",
       "      <th>Date Submitted</th>\n",
       "      <th>Workout Date</th>\n",
       "      <th>Activity Type</th>\n",
       "      <th>Calories Burned (kCal)</th>\n",
       "      <th>Distance (mi)</th>\n",
       "      <th>Workout Time (seconds)</th>\n",
       "      <th>Avg Pace (min/mi)</th>\n",
       "      <th>Max Pace (min/mi)</th>\n",
       "      <th>Avg Speed (mi/h)</th>\n",
       "      <th>Max Speed (mi/h)</th>\n",
       "      <th>Avg Heart Rate</th>\n",
       "      <th>Steps</th>\n",
       "      <th>Notes</th>\n",
       "      <th>Source</th>\n",
       "      <th>Link</th>\n",
       "    </tr>\n",
       "  </thead>\n",
       "  <tbody>\n",
       "    <tr>\n",
       "      <td>0</td>\n",
       "      <td>Jan. 25, 2020</td>\n",
       "      <td>Jan. 25, 2020</td>\n",
       "      <td>Run</td>\n",
       "      <td>509</td>\n",
       "      <td>4.45226</td>\n",
       "      <td>2117</td>\n",
       "      <td>7.92006</td>\n",
       "      <td>1.59279</td>\n",
       "      <td>7.57570</td>\n",
       "      <td>37.66970</td>\n",
       "      <td>149.0</td>\n",
       "      <td>5553.0</td>\n",
       "      <td>NaN</td>\n",
       "      <td>Map My Fitness MapMyRun iPhone</td>\n",
       "      <td>http://www.mapmyfitness.com/workout/3998570485</td>\n",
       "    </tr>\n",
       "    <tr>\n",
       "      <td>1</td>\n",
       "      <td>Jan. 23, 2020</td>\n",
       "      <td>Jan. 23, 2020</td>\n",
       "      <td>Indoor Run / Jog</td>\n",
       "      <td>523</td>\n",
       "      <td>4.00000</td>\n",
       "      <td>1717</td>\n",
       "      <td>7.15417</td>\n",
       "      <td>6.40770</td>\n",
       "      <td>8.38672</td>\n",
       "      <td>9.36374</td>\n",
       "      <td>161.0</td>\n",
       "      <td>4658.0</td>\n",
       "      <td>NaN</td>\n",
       "      <td>Map My Fitness MapMyRun iPhone</td>\n",
       "      <td>http://www.mapmyfitness.com/workout/3995188852</td>\n",
       "    </tr>\n",
       "    <tr>\n",
       "      <td>2</td>\n",
       "      <td>Jan. 21, 2020</td>\n",
       "      <td>Jan. 21, 2020</td>\n",
       "      <td>Indoor Run / Jog</td>\n",
       "      <td>400</td>\n",
       "      <td>3.00000</td>\n",
       "      <td>1345</td>\n",
       "      <td>7.47222</td>\n",
       "      <td>6.83695</td>\n",
       "      <td>8.02974</td>\n",
       "      <td>8.77584</td>\n",
       "      <td>167.0</td>\n",
       "      <td>3582.0</td>\n",
       "      <td>NaN</td>\n",
       "      <td>Map My Fitness MapMyRun iPhone</td>\n",
       "      <td>http://www.mapmyfitness.com/workout/3991922437</td>\n",
       "    </tr>\n",
       "    <tr>\n",
       "      <td>3</td>\n",
       "      <td>Jan. 20, 2020</td>\n",
       "      <td>Jan. 20, 2020</td>\n",
       "      <td>Indoor Run / Jog</td>\n",
       "      <td>532</td>\n",
       "      <td>4.00000</td>\n",
       "      <td>1788</td>\n",
       "      <td>7.45000</td>\n",
       "      <td>6.80370</td>\n",
       "      <td>8.05369</td>\n",
       "      <td>8.81873</td>\n",
       "      <td>151.0</td>\n",
       "      <td>4731.0</td>\n",
       "      <td>NaN</td>\n",
       "      <td>Map My Fitness MapMyRun iPhone</td>\n",
       "      <td>http://www.mapmyfitness.com/workout/3990189352</td>\n",
       "    </tr>\n",
       "    <tr>\n",
       "      <td>4</td>\n",
       "      <td>Jan. 17, 2020</td>\n",
       "      <td>Jan. 17, 2020</td>\n",
       "      <td>Indoor Run / Jog</td>\n",
       "      <td>529</td>\n",
       "      <td>4.00000</td>\n",
       "      <td>1765</td>\n",
       "      <td>7.35417</td>\n",
       "      <td>6.72304</td>\n",
       "      <td>8.15864</td>\n",
       "      <td>8.92454</td>\n",
       "      <td>150.0</td>\n",
       "      <td>4777.0</td>\n",
       "      <td>NaN</td>\n",
       "      <td>Map My Fitness MapMyRun iPhone</td>\n",
       "      <td>http://www.mapmyfitness.com/workout/3985745017</td>\n",
       "    </tr>\n",
       "  </tbody>\n",
       "</table>\n",
       "</div>"
      ],
      "text/plain": [
       "  Date Submitted   Workout Date     Activity Type  Calories Burned (kCal)  \\\n",
       "0  Jan. 25, 2020  Jan. 25, 2020               Run                     509   \n",
       "1  Jan. 23, 2020  Jan. 23, 2020  Indoor Run / Jog                     523   \n",
       "2  Jan. 21, 2020  Jan. 21, 2020  Indoor Run / Jog                     400   \n",
       "3  Jan. 20, 2020  Jan. 20, 2020  Indoor Run / Jog                     532   \n",
       "4  Jan. 17, 2020  Jan. 17, 2020  Indoor Run / Jog                     529   \n",
       "\n",
       "   Distance (mi)  Workout Time (seconds)  Avg Pace (min/mi)  \\\n",
       "0        4.45226                    2117            7.92006   \n",
       "1        4.00000                    1717            7.15417   \n",
       "2        3.00000                    1345            7.47222   \n",
       "3        4.00000                    1788            7.45000   \n",
       "4        4.00000                    1765            7.35417   \n",
       "\n",
       "   Max Pace (min/mi)  Avg Speed (mi/h)  Max Speed (mi/h)  Avg Heart Rate  \\\n",
       "0            1.59279           7.57570          37.66970           149.0   \n",
       "1            6.40770           8.38672           9.36374           161.0   \n",
       "2            6.83695           8.02974           8.77584           167.0   \n",
       "3            6.80370           8.05369           8.81873           151.0   \n",
       "4            6.72304           8.15864           8.92454           150.0   \n",
       "\n",
       "    Steps Notes                          Source  \\\n",
       "0  5553.0   NaN  Map My Fitness MapMyRun iPhone   \n",
       "1  4658.0   NaN  Map My Fitness MapMyRun iPhone   \n",
       "2  3582.0   NaN  Map My Fitness MapMyRun iPhone   \n",
       "3  4731.0   NaN  Map My Fitness MapMyRun iPhone   \n",
       "4  4777.0   NaN  Map My Fitness MapMyRun iPhone   \n",
       "\n",
       "                                             Link  \n",
       "0  http://www.mapmyfitness.com/workout/3998570485  \n",
       "1  http://www.mapmyfitness.com/workout/3995188852  \n",
       "2  http://www.mapmyfitness.com/workout/3991922437  \n",
       "3  http://www.mapmyfitness.com/workout/3990189352  \n",
       "4  http://www.mapmyfitness.com/workout/3985745017  "
      ]
     },
     "execution_count": 2,
     "metadata": {},
     "output_type": "execute_result"
    }
   ],
   "source": [
    "data.head()"
   ]
  },
  {
   "cell_type": "markdown",
   "metadata": {},
   "source": [
    "The \"Workout Date\" column is in a bad format.\n",
    "We need to make a better one."
   ]
  },
  {
   "cell_type": "code",
   "execution_count": 3,
   "metadata": {},
   "outputs": [
    {
     "data": {
      "text/html": [
       "<div>\n",
       "<style scoped>\n",
       "    .dataframe tbody tr th:only-of-type {\n",
       "        vertical-align: middle;\n",
       "    }\n",
       "\n",
       "    .dataframe tbody tr th {\n",
       "        vertical-align: top;\n",
       "    }\n",
       "\n",
       "    .dataframe thead th {\n",
       "        text-align: right;\n",
       "    }\n",
       "</style>\n",
       "<table border=\"1\" class=\"dataframe\">\n",
       "  <thead>\n",
       "    <tr style=\"text-align: right;\">\n",
       "      <th></th>\n",
       "      <th>Date Submitted</th>\n",
       "      <th>Workout Date</th>\n",
       "      <th>Activity Type</th>\n",
       "      <th>Calories Burned (kCal)</th>\n",
       "      <th>Distance (mi)</th>\n",
       "      <th>Workout Time (seconds)</th>\n",
       "      <th>Avg Pace (min/mi)</th>\n",
       "      <th>Max Pace (min/mi)</th>\n",
       "      <th>Avg Speed (mi/h)</th>\n",
       "      <th>Max Speed (mi/h)</th>\n",
       "      <th>Avg Heart Rate</th>\n",
       "      <th>Steps</th>\n",
       "      <th>Notes</th>\n",
       "      <th>Source</th>\n",
       "      <th>Link</th>\n",
       "      <th>date</th>\n",
       "    </tr>\n",
       "  </thead>\n",
       "  <tbody>\n",
       "    <tr>\n",
       "      <td>0</td>\n",
       "      <td>Jan. 25, 2020</td>\n",
       "      <td>Jan. 25, 2020</td>\n",
       "      <td>Run</td>\n",
       "      <td>509</td>\n",
       "      <td>4.45226</td>\n",
       "      <td>2117</td>\n",
       "      <td>7.92006</td>\n",
       "      <td>1.59279</td>\n",
       "      <td>7.57570</td>\n",
       "      <td>37.66970</td>\n",
       "      <td>149.0</td>\n",
       "      <td>5553.0</td>\n",
       "      <td>NaN</td>\n",
       "      <td>Map My Fitness MapMyRun iPhone</td>\n",
       "      <td>http://www.mapmyfitness.com/workout/3998570485</td>\n",
       "      <td>2020-01-25</td>\n",
       "    </tr>\n",
       "    <tr>\n",
       "      <td>1</td>\n",
       "      <td>Jan. 23, 2020</td>\n",
       "      <td>Jan. 23, 2020</td>\n",
       "      <td>Indoor Run / Jog</td>\n",
       "      <td>523</td>\n",
       "      <td>4.00000</td>\n",
       "      <td>1717</td>\n",
       "      <td>7.15417</td>\n",
       "      <td>6.40770</td>\n",
       "      <td>8.38672</td>\n",
       "      <td>9.36374</td>\n",
       "      <td>161.0</td>\n",
       "      <td>4658.0</td>\n",
       "      <td>NaN</td>\n",
       "      <td>Map My Fitness MapMyRun iPhone</td>\n",
       "      <td>http://www.mapmyfitness.com/workout/3995188852</td>\n",
       "      <td>2020-01-23</td>\n",
       "    </tr>\n",
       "    <tr>\n",
       "      <td>2</td>\n",
       "      <td>Jan. 21, 2020</td>\n",
       "      <td>Jan. 21, 2020</td>\n",
       "      <td>Indoor Run / Jog</td>\n",
       "      <td>400</td>\n",
       "      <td>3.00000</td>\n",
       "      <td>1345</td>\n",
       "      <td>7.47222</td>\n",
       "      <td>6.83695</td>\n",
       "      <td>8.02974</td>\n",
       "      <td>8.77584</td>\n",
       "      <td>167.0</td>\n",
       "      <td>3582.0</td>\n",
       "      <td>NaN</td>\n",
       "      <td>Map My Fitness MapMyRun iPhone</td>\n",
       "      <td>http://www.mapmyfitness.com/workout/3991922437</td>\n",
       "      <td>2020-01-21</td>\n",
       "    </tr>\n",
       "    <tr>\n",
       "      <td>3</td>\n",
       "      <td>Jan. 20, 2020</td>\n",
       "      <td>Jan. 20, 2020</td>\n",
       "      <td>Indoor Run / Jog</td>\n",
       "      <td>532</td>\n",
       "      <td>4.00000</td>\n",
       "      <td>1788</td>\n",
       "      <td>7.45000</td>\n",
       "      <td>6.80370</td>\n",
       "      <td>8.05369</td>\n",
       "      <td>8.81873</td>\n",
       "      <td>151.0</td>\n",
       "      <td>4731.0</td>\n",
       "      <td>NaN</td>\n",
       "      <td>Map My Fitness MapMyRun iPhone</td>\n",
       "      <td>http://www.mapmyfitness.com/workout/3990189352</td>\n",
       "      <td>2020-01-20</td>\n",
       "    </tr>\n",
       "    <tr>\n",
       "      <td>4</td>\n",
       "      <td>Jan. 17, 2020</td>\n",
       "      <td>Jan. 17, 2020</td>\n",
       "      <td>Indoor Run / Jog</td>\n",
       "      <td>529</td>\n",
       "      <td>4.00000</td>\n",
       "      <td>1765</td>\n",
       "      <td>7.35417</td>\n",
       "      <td>6.72304</td>\n",
       "      <td>8.15864</td>\n",
       "      <td>8.92454</td>\n",
       "      <td>150.0</td>\n",
       "      <td>4777.0</td>\n",
       "      <td>NaN</td>\n",
       "      <td>Map My Fitness MapMyRun iPhone</td>\n",
       "      <td>http://www.mapmyfitness.com/workout/3985745017</td>\n",
       "      <td>2020-01-17</td>\n",
       "    </tr>\n",
       "  </tbody>\n",
       "</table>\n",
       "</div>"
      ],
      "text/plain": [
       "  Date Submitted   Workout Date     Activity Type  Calories Burned (kCal)  \\\n",
       "0  Jan. 25, 2020  Jan. 25, 2020               Run                     509   \n",
       "1  Jan. 23, 2020  Jan. 23, 2020  Indoor Run / Jog                     523   \n",
       "2  Jan. 21, 2020  Jan. 21, 2020  Indoor Run / Jog                     400   \n",
       "3  Jan. 20, 2020  Jan. 20, 2020  Indoor Run / Jog                     532   \n",
       "4  Jan. 17, 2020  Jan. 17, 2020  Indoor Run / Jog                     529   \n",
       "\n",
       "   Distance (mi)  Workout Time (seconds)  Avg Pace (min/mi)  \\\n",
       "0        4.45226                    2117            7.92006   \n",
       "1        4.00000                    1717            7.15417   \n",
       "2        3.00000                    1345            7.47222   \n",
       "3        4.00000                    1788            7.45000   \n",
       "4        4.00000                    1765            7.35417   \n",
       "\n",
       "   Max Pace (min/mi)  Avg Speed (mi/h)  Max Speed (mi/h)  Avg Heart Rate  \\\n",
       "0            1.59279           7.57570          37.66970           149.0   \n",
       "1            6.40770           8.38672           9.36374           161.0   \n",
       "2            6.83695           8.02974           8.77584           167.0   \n",
       "3            6.80370           8.05369           8.81873           151.0   \n",
       "4            6.72304           8.15864           8.92454           150.0   \n",
       "\n",
       "    Steps Notes                          Source  \\\n",
       "0  5553.0   NaN  Map My Fitness MapMyRun iPhone   \n",
       "1  4658.0   NaN  Map My Fitness MapMyRun iPhone   \n",
       "2  3582.0   NaN  Map My Fitness MapMyRun iPhone   \n",
       "3  4731.0   NaN  Map My Fitness MapMyRun iPhone   \n",
       "4  4777.0   NaN  Map My Fitness MapMyRun iPhone   \n",
       "\n",
       "                                             Link       date  \n",
       "0  http://www.mapmyfitness.com/workout/3998570485 2020-01-25  \n",
       "1  http://www.mapmyfitness.com/workout/3995188852 2020-01-23  \n",
       "2  http://www.mapmyfitness.com/workout/3991922437 2020-01-21  \n",
       "3  http://www.mapmyfitness.com/workout/3990189352 2020-01-20  \n",
       "4  http://www.mapmyfitness.com/workout/3985745017 2020-01-17  "
      ]
     },
     "execution_count": 3,
     "metadata": {},
     "output_type": "execute_result"
    }
   ],
   "source": [
    "data['date'] = pd.to_datetime(data['Workout Date'])\n",
    "data.head()"
   ]
  },
  {
   "cell_type": "markdown",
   "metadata": {},
   "source": [
    "Much better."
   ]
  },
  {
   "cell_type": "code",
   "execution_count": 4,
   "metadata": {},
   "outputs": [],
   "source": [
    "data['year'], data['month'], data['day_of_month'] = data.date.dt.year, data.date.dt.month, data.date.dt.day"
   ]
  },
  {
   "cell_type": "code",
   "execution_count": 5,
   "metadata": {},
   "outputs": [
    {
     "data": {
      "text/html": [
       "<div>\n",
       "<style scoped>\n",
       "    .dataframe tbody tr th:only-of-type {\n",
       "        vertical-align: middle;\n",
       "    }\n",
       "\n",
       "    .dataframe tbody tr th {\n",
       "        vertical-align: top;\n",
       "    }\n",
       "\n",
       "    .dataframe thead th {\n",
       "        text-align: right;\n",
       "    }\n",
       "</style>\n",
       "<table border=\"1\" class=\"dataframe\">\n",
       "  <thead>\n",
       "    <tr style=\"text-align: right;\">\n",
       "      <th></th>\n",
       "      <th>Date Submitted</th>\n",
       "      <th>Workout Date</th>\n",
       "      <th>Activity Type</th>\n",
       "      <th>Calories Burned (kCal)</th>\n",
       "      <th>Distance (mi)</th>\n",
       "      <th>Workout Time (seconds)</th>\n",
       "      <th>Avg Pace (min/mi)</th>\n",
       "      <th>Max Pace (min/mi)</th>\n",
       "      <th>Avg Speed (mi/h)</th>\n",
       "      <th>Max Speed (mi/h)</th>\n",
       "      <th>Avg Heart Rate</th>\n",
       "      <th>Steps</th>\n",
       "      <th>Notes</th>\n",
       "      <th>Source</th>\n",
       "      <th>Link</th>\n",
       "      <th>date</th>\n",
       "      <th>year</th>\n",
       "      <th>month</th>\n",
       "      <th>day_of_month</th>\n",
       "    </tr>\n",
       "  </thead>\n",
       "  <tbody>\n",
       "    <tr>\n",
       "      <td>0</td>\n",
       "      <td>Jan. 25, 2020</td>\n",
       "      <td>Jan. 25, 2020</td>\n",
       "      <td>Run</td>\n",
       "      <td>509</td>\n",
       "      <td>4.45226</td>\n",
       "      <td>2117</td>\n",
       "      <td>7.92006</td>\n",
       "      <td>1.59279</td>\n",
       "      <td>7.57570</td>\n",
       "      <td>37.66970</td>\n",
       "      <td>149.0</td>\n",
       "      <td>5553.0</td>\n",
       "      <td>NaN</td>\n",
       "      <td>Map My Fitness MapMyRun iPhone</td>\n",
       "      <td>http://www.mapmyfitness.com/workout/3998570485</td>\n",
       "      <td>2020-01-25</td>\n",
       "      <td>2020</td>\n",
       "      <td>1</td>\n",
       "      <td>25</td>\n",
       "    </tr>\n",
       "    <tr>\n",
       "      <td>1</td>\n",
       "      <td>Jan. 23, 2020</td>\n",
       "      <td>Jan. 23, 2020</td>\n",
       "      <td>Indoor Run / Jog</td>\n",
       "      <td>523</td>\n",
       "      <td>4.00000</td>\n",
       "      <td>1717</td>\n",
       "      <td>7.15417</td>\n",
       "      <td>6.40770</td>\n",
       "      <td>8.38672</td>\n",
       "      <td>9.36374</td>\n",
       "      <td>161.0</td>\n",
       "      <td>4658.0</td>\n",
       "      <td>NaN</td>\n",
       "      <td>Map My Fitness MapMyRun iPhone</td>\n",
       "      <td>http://www.mapmyfitness.com/workout/3995188852</td>\n",
       "      <td>2020-01-23</td>\n",
       "      <td>2020</td>\n",
       "      <td>1</td>\n",
       "      <td>23</td>\n",
       "    </tr>\n",
       "    <tr>\n",
       "      <td>2</td>\n",
       "      <td>Jan. 21, 2020</td>\n",
       "      <td>Jan. 21, 2020</td>\n",
       "      <td>Indoor Run / Jog</td>\n",
       "      <td>400</td>\n",
       "      <td>3.00000</td>\n",
       "      <td>1345</td>\n",
       "      <td>7.47222</td>\n",
       "      <td>6.83695</td>\n",
       "      <td>8.02974</td>\n",
       "      <td>8.77584</td>\n",
       "      <td>167.0</td>\n",
       "      <td>3582.0</td>\n",
       "      <td>NaN</td>\n",
       "      <td>Map My Fitness MapMyRun iPhone</td>\n",
       "      <td>http://www.mapmyfitness.com/workout/3991922437</td>\n",
       "      <td>2020-01-21</td>\n",
       "      <td>2020</td>\n",
       "      <td>1</td>\n",
       "      <td>21</td>\n",
       "    </tr>\n",
       "    <tr>\n",
       "      <td>3</td>\n",
       "      <td>Jan. 20, 2020</td>\n",
       "      <td>Jan. 20, 2020</td>\n",
       "      <td>Indoor Run / Jog</td>\n",
       "      <td>532</td>\n",
       "      <td>4.00000</td>\n",
       "      <td>1788</td>\n",
       "      <td>7.45000</td>\n",
       "      <td>6.80370</td>\n",
       "      <td>8.05369</td>\n",
       "      <td>8.81873</td>\n",
       "      <td>151.0</td>\n",
       "      <td>4731.0</td>\n",
       "      <td>NaN</td>\n",
       "      <td>Map My Fitness MapMyRun iPhone</td>\n",
       "      <td>http://www.mapmyfitness.com/workout/3990189352</td>\n",
       "      <td>2020-01-20</td>\n",
       "      <td>2020</td>\n",
       "      <td>1</td>\n",
       "      <td>20</td>\n",
       "    </tr>\n",
       "    <tr>\n",
       "      <td>4</td>\n",
       "      <td>Jan. 17, 2020</td>\n",
       "      <td>Jan. 17, 2020</td>\n",
       "      <td>Indoor Run / Jog</td>\n",
       "      <td>529</td>\n",
       "      <td>4.00000</td>\n",
       "      <td>1765</td>\n",
       "      <td>7.35417</td>\n",
       "      <td>6.72304</td>\n",
       "      <td>8.15864</td>\n",
       "      <td>8.92454</td>\n",
       "      <td>150.0</td>\n",
       "      <td>4777.0</td>\n",
       "      <td>NaN</td>\n",
       "      <td>Map My Fitness MapMyRun iPhone</td>\n",
       "      <td>http://www.mapmyfitness.com/workout/3985745017</td>\n",
       "      <td>2020-01-17</td>\n",
       "      <td>2020</td>\n",
       "      <td>1</td>\n",
       "      <td>17</td>\n",
       "    </tr>\n",
       "  </tbody>\n",
       "</table>\n",
       "</div>"
      ],
      "text/plain": [
       "  Date Submitted   Workout Date     Activity Type  Calories Burned (kCal)  \\\n",
       "0  Jan. 25, 2020  Jan. 25, 2020               Run                     509   \n",
       "1  Jan. 23, 2020  Jan. 23, 2020  Indoor Run / Jog                     523   \n",
       "2  Jan. 21, 2020  Jan. 21, 2020  Indoor Run / Jog                     400   \n",
       "3  Jan. 20, 2020  Jan. 20, 2020  Indoor Run / Jog                     532   \n",
       "4  Jan. 17, 2020  Jan. 17, 2020  Indoor Run / Jog                     529   \n",
       "\n",
       "   Distance (mi)  Workout Time (seconds)  Avg Pace (min/mi)  \\\n",
       "0        4.45226                    2117            7.92006   \n",
       "1        4.00000                    1717            7.15417   \n",
       "2        3.00000                    1345            7.47222   \n",
       "3        4.00000                    1788            7.45000   \n",
       "4        4.00000                    1765            7.35417   \n",
       "\n",
       "   Max Pace (min/mi)  Avg Speed (mi/h)  Max Speed (mi/h)  Avg Heart Rate  \\\n",
       "0            1.59279           7.57570          37.66970           149.0   \n",
       "1            6.40770           8.38672           9.36374           161.0   \n",
       "2            6.83695           8.02974           8.77584           167.0   \n",
       "3            6.80370           8.05369           8.81873           151.0   \n",
       "4            6.72304           8.15864           8.92454           150.0   \n",
       "\n",
       "    Steps Notes                          Source  \\\n",
       "0  5553.0   NaN  Map My Fitness MapMyRun iPhone   \n",
       "1  4658.0   NaN  Map My Fitness MapMyRun iPhone   \n",
       "2  3582.0   NaN  Map My Fitness MapMyRun iPhone   \n",
       "3  4731.0   NaN  Map My Fitness MapMyRun iPhone   \n",
       "4  4777.0   NaN  Map My Fitness MapMyRun iPhone   \n",
       "\n",
       "                                             Link       date  year  month  \\\n",
       "0  http://www.mapmyfitness.com/workout/3998570485 2020-01-25  2020      1   \n",
       "1  http://www.mapmyfitness.com/workout/3995188852 2020-01-23  2020      1   \n",
       "2  http://www.mapmyfitness.com/workout/3991922437 2020-01-21  2020      1   \n",
       "3  http://www.mapmyfitness.com/workout/3990189352 2020-01-20  2020      1   \n",
       "4  http://www.mapmyfitness.com/workout/3985745017 2020-01-17  2020      1   \n",
       "\n",
       "   day_of_month  \n",
       "0            25  \n",
       "1            23  \n",
       "2            21  \n",
       "3            20  \n",
       "4            17  "
      ]
     },
     "execution_count": 5,
     "metadata": {},
     "output_type": "execute_result"
    }
   ],
   "source": [
    "data.head()"
   ]
  },
  {
   "cell_type": "markdown",
   "metadata": {},
   "source": [
    "Get some high-level metrics in pivot tables."
   ]
  },
  {
   "cell_type": "code",
   "execution_count": 6,
   "metadata": {},
   "outputs": [
    {
     "data": {
      "text/html": [
       "<div>\n",
       "<style scoped>\n",
       "    .dataframe tbody tr th:only-of-type {\n",
       "        vertical-align: middle;\n",
       "    }\n",
       "\n",
       "    .dataframe tbody tr th {\n",
       "        vertical-align: top;\n",
       "    }\n",
       "\n",
       "    .dataframe thead th {\n",
       "        text-align: right;\n",
       "    }\n",
       "</style>\n",
       "<table border=\"1\" class=\"dataframe\">\n",
       "  <thead>\n",
       "    <tr style=\"text-align: right;\">\n",
       "      <th></th>\n",
       "      <th>Calories Burned (kCal)</th>\n",
       "      <th>Distance (mi)</th>\n",
       "      <th>Runs</th>\n",
       "      <th>Steps</th>\n",
       "      <th>Workout Time (seconds)</th>\n",
       "    </tr>\n",
       "    <tr>\n",
       "      <th>year</th>\n",
       "      <th></th>\n",
       "      <th></th>\n",
       "      <th></th>\n",
       "      <th></th>\n",
       "      <th></th>\n",
       "    </tr>\n",
       "  </thead>\n",
       "  <tbody>\n",
       "    <tr>\n",
       "      <td>2016</td>\n",
       "      <td>8707</td>\n",
       "      <td>59.65229</td>\n",
       "      <td>14</td>\n",
       "      <td>100286.0</td>\n",
       "      <td>31480</td>\n",
       "    </tr>\n",
       "    <tr>\n",
       "      <td>2017</td>\n",
       "      <td>31151</td>\n",
       "      <td>202.74682</td>\n",
       "      <td>65</td>\n",
       "      <td>373450.0</td>\n",
       "      <td>87910</td>\n",
       "    </tr>\n",
       "    <tr>\n",
       "      <td>2018</td>\n",
       "      <td>29846</td>\n",
       "      <td>229.73604</td>\n",
       "      <td>70</td>\n",
       "      <td>349072.0</td>\n",
       "      <td>110898</td>\n",
       "    </tr>\n",
       "    <tr>\n",
       "      <td>2019</td>\n",
       "      <td>43413</td>\n",
       "      <td>362.87609</td>\n",
       "      <td>100</td>\n",
       "      <td>470393.0</td>\n",
       "      <td>176470</td>\n",
       "    </tr>\n",
       "    <tr>\n",
       "      <td>2020</td>\n",
       "      <td>5767</td>\n",
       "      <td>47.42366</td>\n",
       "      <td>13</td>\n",
       "      <td>57151.0</td>\n",
       "      <td>21476</td>\n",
       "    </tr>\n",
       "    <tr>\n",
       "      <td>All</td>\n",
       "      <td>118884</td>\n",
       "      <td>902.43490</td>\n",
       "      <td>262</td>\n",
       "      <td>1350352.0</td>\n",
       "      <td>428234</td>\n",
       "    </tr>\n",
       "  </tbody>\n",
       "</table>\n",
       "</div>"
      ],
      "text/plain": [
       "      Calories Burned (kCal)  Distance (mi)  Runs      Steps  \\\n",
       "year                                                           \n",
       "2016                    8707       59.65229    14   100286.0   \n",
       "2017                   31151      202.74682    65   373450.0   \n",
       "2018                   29846      229.73604    70   349072.0   \n",
       "2019                   43413      362.87609   100   470393.0   \n",
       "2020                    5767       47.42366    13    57151.0   \n",
       "All                   118884      902.43490   262  1350352.0   \n",
       "\n",
       "      Workout Time (seconds)  \n",
       "year                          \n",
       "2016                   31480  \n",
       "2017                   87910  \n",
       "2018                  110898  \n",
       "2019                  176470  \n",
       "2020                   21476  \n",
       "All                   428234  "
      ]
     },
     "execution_count": 6,
     "metadata": {},
     "output_type": "execute_result"
    }
   ],
   "source": [
    "# Which columns can we aggregate via a sum? Do these in one step.\n",
    "sum_cols = ['Steps', 'Distance (mi)', 'Calories Burned (kCal)', 'Workout Time (seconds)']\n",
    "# Use the .assign to create a raw count of runs column\n",
    "data[sum_cols + ['year']].assign(Runs=1).pivot_table(index='year', aggfunc='sum', margins=True)"
   ]
  },
  {
   "cell_type": "code",
   "execution_count": 7,
   "metadata": {},
   "outputs": [
    {
     "data": {
      "text/plain": [
       "118.9538888888889"
      ]
     },
     "execution_count": 7,
     "metadata": {},
     "output_type": "execute_result"
    }
   ],
   "source": [
    "# How many hours is my total workout time?\n",
    "428234 / 60 / 60"
   ]
  },
  {
   "cell_type": "markdown",
   "metadata": {},
   "source": [
    "I'm closing in on 1000 lifetime miles!\n",
    "\n",
    "Actually I have almost certainly passed that, given all the runs I've done but not recorded.\n",
    "But still."
   ]
  },
  {
   "cell_type": "code",
   "execution_count": 8,
   "metadata": {},
   "outputs": [
    {
     "data": {
      "text/html": [
       "<div>\n",
       "<style scoped>\n",
       "    .dataframe tbody tr th:only-of-type {\n",
       "        vertical-align: middle;\n",
       "    }\n",
       "\n",
       "    .dataframe tbody tr th {\n",
       "        vertical-align: top;\n",
       "    }\n",
       "\n",
       "    .dataframe thead th {\n",
       "        text-align: right;\n",
       "    }\n",
       "</style>\n",
       "<table border=\"1\" class=\"dataframe\">\n",
       "  <thead>\n",
       "    <tr style=\"text-align: right;\">\n",
       "      <th></th>\n",
       "      <th>Avg Heart Rate</th>\n",
       "      <th>Avg Pace (min/mi)</th>\n",
       "      <th>Distance (mi)</th>\n",
       "    </tr>\n",
       "    <tr>\n",
       "      <th>year</th>\n",
       "      <th></th>\n",
       "      <th></th>\n",
       "      <th></th>\n",
       "    </tr>\n",
       "  </thead>\n",
       "  <tbody>\n",
       "    <tr>\n",
       "      <td>2016</td>\n",
       "      <td>0.000000</td>\n",
       "      <td>8.543726</td>\n",
       "      <td>4.260878</td>\n",
       "    </tr>\n",
       "    <tr>\n",
       "      <td>2017</td>\n",
       "      <td>0.000000</td>\n",
       "      <td>7.050336</td>\n",
       "      <td>3.119182</td>\n",
       "    </tr>\n",
       "    <tr>\n",
       "      <td>2018</td>\n",
       "      <td>139.666667</td>\n",
       "      <td>7.868912</td>\n",
       "      <td>3.281943</td>\n",
       "    </tr>\n",
       "    <tr>\n",
       "      <td>2019</td>\n",
       "      <td>152.597938</td>\n",
       "      <td>8.107301</td>\n",
       "      <td>3.628761</td>\n",
       "    </tr>\n",
       "    <tr>\n",
       "      <td>2020</td>\n",
       "      <td>153.230769</td>\n",
       "      <td>7.492446</td>\n",
       "      <td>3.647974</td>\n",
       "    </tr>\n",
       "    <tr>\n",
       "      <td>All</td>\n",
       "      <td>133.179641</td>\n",
       "      <td>8.146450</td>\n",
       "      <td>3.792654</td>\n",
       "    </tr>\n",
       "  </tbody>\n",
       "</table>\n",
       "</div>"
      ],
      "text/plain": [
       "      Avg Heart Rate  Avg Pace (min/mi)  Distance (mi)\n",
       "year                                                  \n",
       "2016        0.000000           8.543726       4.260878\n",
       "2017        0.000000           7.050336       3.119182\n",
       "2018      139.666667           7.868912       3.281943\n",
       "2019      152.597938           8.107301       3.628761\n",
       "2020      153.230769           7.492446       3.647974\n",
       "All       133.179641           8.146450       3.792654"
      ]
     },
     "execution_count": 8,
     "metadata": {},
     "output_type": "execute_result"
    }
   ],
   "source": [
    "# Which columns can we aggregate via an average? Do these in one step.\n",
    "avg_cols = ['Distance (mi)', 'Avg Pace (min/mi)', 'Avg Heart Rate']\n",
    "data[avg_cols + ['year']].pivot_table(index='year', aggfunc='mean', margins=True)"
   ]
  },
  {
   "cell_type": "markdown",
   "metadata": {},
   "source": [
    "Notably, these aren't true averages -- they're the average of each year's average, so not properly weighted by number of obvservations per year.\n",
    "\n",
    "Let's repeat that procedure but pivoting by indoor/outdoor instead of year."
   ]
  },
  {
   "cell_type": "code",
   "execution_count": 9,
   "metadata": {},
   "outputs": [
    {
     "data": {
      "text/html": [
       "<div>\n",
       "<style scoped>\n",
       "    .dataframe tbody tr th:only-of-type {\n",
       "        vertical-align: middle;\n",
       "    }\n",
       "\n",
       "    .dataframe tbody tr th {\n",
       "        vertical-align: top;\n",
       "    }\n",
       "\n",
       "    .dataframe thead th {\n",
       "        text-align: right;\n",
       "    }\n",
       "</style>\n",
       "<table border=\"1\" class=\"dataframe\">\n",
       "  <thead>\n",
       "    <tr style=\"text-align: right;\">\n",
       "      <th></th>\n",
       "      <th>Calories Burned (kCal)</th>\n",
       "      <th>Distance (mi)</th>\n",
       "      <th>Runs</th>\n",
       "      <th>Steps</th>\n",
       "      <th>Workout Time (seconds)</th>\n",
       "    </tr>\n",
       "    <tr>\n",
       "      <th>Activity Type</th>\n",
       "      <th></th>\n",
       "      <th></th>\n",
       "      <th></th>\n",
       "      <th></th>\n",
       "      <th></th>\n",
       "    </tr>\n",
       "  </thead>\n",
       "  <tbody>\n",
       "    <tr>\n",
       "      <td>Indoor Run / Jog</td>\n",
       "      <td>44821</td>\n",
       "      <td>301.91813</td>\n",
       "      <td>110</td>\n",
       "      <td>565409.0</td>\n",
       "      <td>130656</td>\n",
       "    </tr>\n",
       "    <tr>\n",
       "      <td>Run</td>\n",
       "      <td>74063</td>\n",
       "      <td>600.51677</td>\n",
       "      <td>152</td>\n",
       "      <td>784943.0</td>\n",
       "      <td>297578</td>\n",
       "    </tr>\n",
       "    <tr>\n",
       "      <td>All</td>\n",
       "      <td>118884</td>\n",
       "      <td>902.43490</td>\n",
       "      <td>262</td>\n",
       "      <td>1350352.0</td>\n",
       "      <td>428234</td>\n",
       "    </tr>\n",
       "  </tbody>\n",
       "</table>\n",
       "</div>"
      ],
      "text/plain": [
       "                  Calories Burned (kCal)  Distance (mi)  Runs      Steps  \\\n",
       "Activity Type                                                              \n",
       "Indoor Run / Jog                   44821      301.91813   110   565409.0   \n",
       "Run                                74063      600.51677   152   784943.0   \n",
       "All                               118884      902.43490   262  1350352.0   \n",
       "\n",
       "                  Workout Time (seconds)  \n",
       "Activity Type                             \n",
       "Indoor Run / Jog                  130656  \n",
       "Run                               297578  \n",
       "All                               428234  "
      ]
     },
     "execution_count": 9,
     "metadata": {},
     "output_type": "execute_result"
    }
   ],
   "source": [
    "sum_cols = ['Steps', 'Distance (mi)', 'Calories Burned (kCal)', 'Workout Time (seconds)']\n",
    "# Use the .assign to create a raw count of runs column\n",
    "data[sum_cols + ['Activity Type']].assign(Runs=1).pivot_table(index='Activity Type', aggfunc='sum', margins=True)"
   ]
  },
  {
   "cell_type": "code",
   "execution_count": 10,
   "metadata": {},
   "outputs": [
    {
     "data": {
      "text/html": [
       "<div>\n",
       "<style scoped>\n",
       "    .dataframe tbody tr th:only-of-type {\n",
       "        vertical-align: middle;\n",
       "    }\n",
       "\n",
       "    .dataframe tbody tr th {\n",
       "        vertical-align: top;\n",
       "    }\n",
       "\n",
       "    .dataframe thead th {\n",
       "        text-align: right;\n",
       "    }\n",
       "</style>\n",
       "<table border=\"1\" class=\"dataframe\">\n",
       "  <thead>\n",
       "    <tr style=\"text-align: right;\">\n",
       "      <th></th>\n",
       "      <th>Avg Heart Rate</th>\n",
       "      <th>Avg Pace (min/mi)</th>\n",
       "      <th>Distance (mi)</th>\n",
       "    </tr>\n",
       "    <tr>\n",
       "      <th>Activity Type</th>\n",
       "      <th></th>\n",
       "      <th></th>\n",
       "      <th></th>\n",
       "    </tr>\n",
       "  </thead>\n",
       "  <tbody>\n",
       "    <tr>\n",
       "      <td>Indoor Run / Jog</td>\n",
       "      <td>155.000000</td>\n",
       "      <td>7.100468</td>\n",
       "      <td>2.744710</td>\n",
       "    </tr>\n",
       "    <tr>\n",
       "      <td>Run</td>\n",
       "      <td>128.971429</td>\n",
       "      <td>8.261765</td>\n",
       "      <td>3.950768</td>\n",
       "    </tr>\n",
       "    <tr>\n",
       "      <td>All</td>\n",
       "      <td>133.179641</td>\n",
       "      <td>8.146450</td>\n",
       "      <td>3.792654</td>\n",
       "    </tr>\n",
       "  </tbody>\n",
       "</table>\n",
       "</div>"
      ],
      "text/plain": [
       "                  Avg Heart Rate  Avg Pace (min/mi)  Distance (mi)\n",
       "Activity Type                                                     \n",
       "Indoor Run / Jog      155.000000           7.100468       2.744710\n",
       "Run                   128.971429           8.261765       3.950768\n",
       "All                   133.179641           8.146450       3.792654"
      ]
     },
     "execution_count": 10,
     "metadata": {},
     "output_type": "execute_result"
    }
   ],
   "source": [
    "avg_cols = ['Distance (mi)', 'Avg Pace (min/mi)', 'Avg Heart Rate']\n",
    "data[avg_cols + ['Activity Type']].pivot_table(index='Activity Type', aggfunc='mean', margins=True)"
   ]
  },
  {
   "cell_type": "markdown",
   "metadata": {},
   "source": [
    "Again, not a real average, etc."
   ]
  },
  {
   "cell_type": "markdown",
   "metadata": {},
   "source": [
    "Let's look at the distribution of distances."
   ]
  },
  {
   "cell_type": "code",
   "execution_count": 11,
   "metadata": {},
   "outputs": [
    {
     "data": {
      "text/plain": [
       "<matplotlib.axes._subplots.AxesSubplot at 0x1a18d5bc10>"
      ]
     },
     "execution_count": 11,
     "metadata": {},
     "output_type": "execute_result"
    }
   ],
   "source": [
    "import seaborn as sns\n",
    "sns.distplot(data['Distance (mi)'])"
   ]
  },
  {
   "cell_type": "markdown",
   "metadata": {},
   "source": [
    "I want to create a density plot of my runs by date, but weighted by how far each run is.\n",
    "I don't know of anything that exists already, so I'll try to do that in a custom way."
   ]
  },
  {
   "cell_type": "markdown",
   "metadata": {},
   "source": [
    "Basically, I can just count each observation N times, where N is the number of miles in the observation:"
   ]
  },
  {
   "cell_type": "code",
   "execution_count": 12,
   "metadata": {},
   "outputs": [
    {
     "data": {
      "text/html": [
       "<div>\n",
       "<style scoped>\n",
       "    .dataframe tbody tr th:only-of-type {\n",
       "        vertical-align: middle;\n",
       "    }\n",
       "\n",
       "    .dataframe tbody tr th {\n",
       "        vertical-align: top;\n",
       "    }\n",
       "\n",
       "    .dataframe thead th {\n",
       "        text-align: right;\n",
       "    }\n",
       "</style>\n",
       "<table border=\"1\" class=\"dataframe\">\n",
       "  <thead>\n",
       "    <tr style=\"text-align: right;\">\n",
       "      <th></th>\n",
       "      <th>date</th>\n",
       "      <th>weight</th>\n",
       "    </tr>\n",
       "  </thead>\n",
       "  <tbody>\n",
       "    <tr>\n",
       "      <td>0</td>\n",
       "      <td>2020-01-25</td>\n",
       "      <td>9</td>\n",
       "    </tr>\n",
       "    <tr>\n",
       "      <td>1</td>\n",
       "      <td>2020-01-23</td>\n",
       "      <td>8</td>\n",
       "    </tr>\n",
       "    <tr>\n",
       "      <td>2</td>\n",
       "      <td>2020-01-21</td>\n",
       "      <td>6</td>\n",
       "    </tr>\n",
       "    <tr>\n",
       "      <td>3</td>\n",
       "      <td>2020-01-20</td>\n",
       "      <td>8</td>\n",
       "    </tr>\n",
       "    <tr>\n",
       "      <td>4</td>\n",
       "      <td>2020-01-17</td>\n",
       "      <td>8</td>\n",
       "    </tr>\n",
       "  </tbody>\n",
       "</table>\n",
       "</div>"
      ],
      "text/plain": [
       "        date  weight\n",
       "0 2020-01-25       9\n",
       "1 2020-01-23       8\n",
       "2 2020-01-21       6\n",
       "3 2020-01-20       8\n",
       "4 2020-01-17       8"
      ]
     },
     "execution_count": 12,
     "metadata": {},
     "output_type": "execute_result"
    }
   ],
   "source": [
    "weighted_dates = data.copy()\n",
    "weighted_dates['weight'] = (weighted_dates['Distance (mi)'] / 0.5).round().astype(int)\n",
    "weighted_dates = weighted_dates[['date', 'weight']]\n",
    "weighted_dates.head()"
   ]
  },
  {
   "cell_type": "code",
   "execution_count": 13,
   "metadata": {},
   "outputs": [],
   "source": [
    "new_dates = []\n",
    "for index, row in weighted_dates.iterrows():\n",
    "    dates = row['weight'] * [row['date']]\n",
    "    new_dates.extend(dates)\n",
    "new_dates = pd.to_datetime(new_dates).to_series()"
   ]
  },
  {
   "cell_type": "code",
   "execution_count": 14,
   "metadata": {},
   "outputs": [
    {
     "data": {
      "text/plain": [
       "2020-01-25    2020.068493\n",
       "2020-01-25    2020.068493\n",
       "2020-01-25    2020.068493\n",
       "2020-01-25    2020.068493\n",
       "2020-01-25    2020.068493\n",
       "dtype: float64"
      ]
     },
     "execution_count": 14,
     "metadata": {},
     "output_type": "execute_result"
    }
   ],
   "source": [
    "def date_to_year(d):\n",
    "    '''Convert a pandas datetime to a float (year.XXX)'''\n",
    "    return d.year + d.dayofyear / 365\n",
    "new_dates = new_dates.apply(date_to_year)\n",
    "new_dates.head()"
   ]
  },
  {
   "cell_type": "code",
   "execution_count": 15,
   "metadata": {},
   "outputs": [
    {
     "data": {
      "text/plain": [
       "<matplotlib.axes._subplots.AxesSubplot at 0x11686f550>"
      ]
     },
     "execution_count": 15,
     "metadata": {},
     "output_type": "execute_result"
    },
    {
     "data": {
      "image/png": "[encoded data removed]",
      "text/plain": [
       "<Figure size 1080x720 with 1 Axes>"
      ]
     },
     "metadata": {
      "needs_background": "light"
     },
     "output_type": "display_data"
    }
   ],
   "source": [
    "import matplotlib.pyplot as plt\n",
    "plt.figure(figsize=(15, 10))\n",
    "sns.kdeplot(new_dates)"
   ]
  },
  {
   "cell_type": "markdown",
   "metadata": {},
   "source": [
    "This seems too smooth -- there are very few ridges, but I'm interested in trends across seasons, etc.\n",
    "Tweak it to show more detail."
   ]
  },
  {
   "cell_type": "code",
   "execution_count": 16,
   "metadata": {},
   "outputs": [
    {
     "data": {
      "text/plain": [
       "<matplotlib.axes._subplots.AxesSubplot at 0x1a19118e90>"
      ]
     },
     "execution_count": 16,
     "metadata": {},
     "output_type": "execute_result"
    },
    {
     "data": {
      "image/png": "[encoded data removed]",
      "text/plain": [
       "<Figure size 1080x720 with 1 Axes>"
      ]
     },
     "metadata": {
      "needs_background": "light"
     },
     "output_type": "display_data"
    }
   ],
   "source": [
    "plt.figure(figsize=(15, 10))\n",
    "sns.kdeplot(new_dates, bw=0.05)"
   ]
  },
  {
   "cell_type": "markdown",
   "metadata": {},
   "source": [
    "Very interesting!\n",
    "\n",
    "The first plot shows that I'm running quite a lot more as time goes on, in terms of distance.\n",
    "\n",
    "The second shows how seasonal my running is.\n",
    "You can actually see my running dip in the summer each year, after I usually run a half marathon in April.\n",
    "Then it slowly ramps up in fall through early spring."
   ]
  },
  {
   "cell_type": "code",
   "execution_count": 17,
   "metadata": {},
   "outputs": [],
   "source": [
    "# The dates of the half marathons I've run\n",
    "half_dates = ['2018-04-07', '2017-04-01']\n",
    "half_dates = pd.to_datetime(half_dates).to_series()\n",
    "half_dates = half_dates.apply(date_to_year)"
   ]
  },
  {
   "cell_type": "code",
   "execution_count": 18,
   "metadata": {},
   "outputs": [
    {
     "data": {
      "text/plain": [
       "2018-04-07    2018.265753\n",
       "2017-04-01    2017.249315\n",
       "dtype: float64"
      ]
     },
     "execution_count": 18,
     "metadata": {},
     "output_type": "execute_result"
    }
   ],
   "source": [
    "half_dates"
   ]
  },
  {
   "cell_type": "code",
   "execution_count": 19,
   "metadata": {},
   "outputs": [
    {
     "data": {
      "image/png": "[encoded data removed]",
      "text/plain": [
       "<Figure size 1080x720 with 1 Axes>"
      ]
     },
     "metadata": {
      "needs_background": "light"
     },
     "output_type": "display_data"
    }
   ],
   "source": [
    "plt.figure(figsize=(15, 10))\n",
    "sns.kdeplot(new_dates, bw=0.05)\n",
    "# Add a vertical line for each half marathon.\n",
    "for half_date in half_dates:\n",
    "    plt.axvline(half_date, 0, 1, c='red')\n",
    "    plt.text(half_date + 0.05, 0.6, 'Holy Half', c='red')\n",
    "plt.title('Distribution of my runs, weighted by miles')\n",
    "plt.xlabel('Date');"
   ]
  },
  {
   "cell_type": "markdown",
   "metadata": {},
   "source": [
    "Not unexpected, but interesting!"
   ]
  }
 ],
 "metadata": {
  "kernelspec": {
   "display_name": "adhoc",
   "language": "python",
   "name": "adhoc"
  },
  "language_info": {
   "codemirror_mode": {
    "name": "ipython",
    "version": 3
   },
   "file_extension": ".py",
   "mimetype": "text/x-python",
   "name": "python",
   "nbconvert_exporter": "python",
   "pygments_lexer": "ipython3",
   "version": "3.7.4"
  }
 },
 "nbformat": 4,
 "nbformat_minor": 4
}
